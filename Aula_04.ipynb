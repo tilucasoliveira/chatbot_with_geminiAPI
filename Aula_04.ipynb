{
  "nbformat": 4,
  "nbformat_minor": 0,
  "metadata": {
    "colab": {
      "provenance": [],
      "authorship_tag": "ABX9TyMSwIq/z9iqj1Ls48M8MZYW",
      "include_colab_link": true
    },
    "kernelspec": {
      "name": "python3",
      "display_name": "Python 3"
    },
    "language_info": {
      "name": "python"
    }
  },
  "cells": [
    {
      "cell_type": "markdown",
      "metadata": {
        "id": "view-in-github",
        "colab_type": "text"
      },
      "source": [
        "<a href=\"https://colab.research.google.com/github/tilucasoliveira/chatbot_with_geminiAPI/blob/main/Aula_04.ipynb\" target=\"_parent\"><img src=\"https://colab.research.google.com/assets/colab-badge.svg\" alt=\"Open In Colab\"/></a>"
      ]
    },
    {
      "cell_type": "markdown",
      "source": [
        "**Instalando o SDK do google**"
      ],
      "metadata": {
        "id": "xeAzNjLIURhd"
      }
    },
    {
      "cell_type": "code",
      "execution_count": 54,
      "metadata": {
        "id": "Ke7i7s45Q1Ln"
      },
      "outputs": [],
      "source": [
        "!pip install -q -U google-generativeai"
      ]
    },
    {
      "cell_type": "markdown",
      "source": [
        "**Importando o SDK e adicionando a APKEY do Google Gemini**"
      ],
      "metadata": {
        "id": "uUOhw2P7U9Zj"
      }
    },
    {
      "cell_type": "code",
      "source": [
        "# Import the Python SDK\n",
        "import google.generativeai as genai\n",
        "from google.colab import userdata\n",
        "api_key = userdata.get('secret_key')\n",
        "genai.configure(api_key=api_key)"
      ],
      "metadata": {
        "id": "PhFgRU03SRww"
      },
      "execution_count": 56,
      "outputs": []
    },
    {
      "cell_type": "code",
      "source": [
        "model = genai.GenerativeModel('gemini-pro')"
      ],
      "metadata": {
        "id": "cVbASGFvS8qY"
      },
      "execution_count": 57,
      "outputs": []
    },
    {
      "cell_type": "markdown",
      "source": [
        "**Exemplo de utilização do Gemini em API**"
      ],
      "metadata": {
        "id": "O-FbZYEeVQWb"
      }
    },
    {
      "cell_type": "code",
      "source": [
        "response = model.generate_content(\"Vamos aprender conteúdos sobre IA. Me dê sugesões de conteúdos.\")\n",
        "print(response.text)"
      ],
      "metadata": {
        "colab": {
          "base_uri": "https://localhost:8080/",
          "height": 607
        },
        "id": "7TUKfyJITANQ",
        "outputId": "5b4186bd-edc1-4f27-8394-c52439a76f7c"
      },
      "execution_count": 58,
      "outputs": [
        {
          "output_type": "stream",
          "name": "stdout",
          "text": [
            "**Introdução à Inteligência Artificial (IA)**\n",
            "* Definição e história da IA\n",
            "* Tipos de IA: aprendizado de máquina, aprendizado profundo, redes neurais\n",
            "* Aplicações da IA em vários setores\n",
            "\n",
            "**Aprendizado de Máquina (ML)**\n",
            "* Conceitos básicos de ML, como aprendizado supervisionado, não supervisionado e por reforço\n",
            "* Algoritmos de ML comuns: regressão, classificação, agrupamento\n",
            "* Avaliação e seleção de modelos de ML\n",
            "\n",
            "**Aprendizado Profundo (DL)**\n",
            "* Redes neurais e como elas funcionam\n",
            "* Tipos de redes neurais: redes convolucionais, redes recorrentes\n",
            "* Aplicações do DL em processamento de linguagem natural, visão computacional\n",
            "\n",
            "**Redes Neurais**\n",
            "* Arquiteturas de redes neurais: feedforward, convolucionais, recorrentes\n",
            "* Técnicas de treinamento de redes neurais: retropropagação, otimização, regularização\n",
            "* Aplicações das redes neurais em reconhecimento de imagem, processamento de texto\n",
            "\n",
            "**Processamento de Linguagem Natural (PNL)**\n",
            "* Introdução ao PNL e suas aplicações\n",
            "* Modelagem de linguagem, análise de sentimento, tradução automática\n",
            "* Técnicas de PNL: tokenização, vectores de palavra, modelos de sequência\n",
            "\n",
            "**Visão Computacional**\n",
            "* Conceitos de visão computacional: detecção de objetos, reconhecimento de imagem, segmentação\n",
            "* Abordagens de visão computacional: redes neurais convolucionais, processamento de imagem\n",
            "* Aplicações da visão computacional em automação, medicina, entretenimento\n",
            "\n",
            "**Ética e Implicações Sociais da IA**\n",
            "* Preocupações éticas com a IA, como viés, privacidade e responsabilidade\n",
            "* Implicações sociais da IA, como emprego, economia e sociedade\n",
            "* Diretrizes e regulamentações éticas para o desenvolvimento e uso da IA\n"
          ]
        }
      ]
    },
    {
      "cell_type": "markdown",
      "source": [
        "**Listando os modelos do Gemini disponíveis**"
      ],
      "metadata": {
        "id": "dzGweRiCVYS0"
      }
    },
    {
      "cell_type": "code",
      "source": [
        "for m in genai.list_models():\n",
        "  if 'generateContent' in m.supported_generation_methods:\n",
        "    print(m.name)"
      ],
      "metadata": {
        "colab": {
          "base_uri": "https://localhost:8080/",
          "height": 139
        },
        "id": "R7aDTU_IThRl",
        "outputId": "5880a23d-3bd5-4464-c8cf-cdf7fcfcf256"
      },
      "execution_count": 59,
      "outputs": [
        {
          "output_type": "stream",
          "name": "stdout",
          "text": [
            "models/gemini-1.0-pro\n",
            "models/gemini-1.0-pro-001\n",
            "models/gemini-1.0-pro-latest\n",
            "models/gemini-1.0-pro-vision-latest\n",
            "models/gemini-1.5-pro-latest\n",
            "models/gemini-pro\n",
            "models/gemini-pro-vision\n"
          ]
        }
      ]
    },
    {
      "cell_type": "markdown",
      "source": [
        "**Parametrizando o modelo - criando variáveis**"
      ],
      "metadata": {
        "id": "g41XsLkLg7L4"
      }
    },
    {
      "cell_type": "markdown",
      "source": [
        "## Comentando o código `generation_config`"
      ],
      "metadata": {
        "id": "aPydnS9ahACG"
      }
    },
    {
      "cell_type": "markdown",
      "source": [
        "O código fornecido define uma configuração para a geração de texto, possivelmente usando um modelo de linguagem como eu. Vamos analisar cada parâmetro:\n",
        "\n",
        "**`candidate_count` (Contagem de Candidatos):**\n",
        "\n",
        "* Define o número de candidatos a serem gerados para cada palavra ou frase. Um valor maior pode levar a mais diversidade nas opções, mas também aumenta o tempo de processamento.\n",
        "* No caso de `candidate_count = 1`, apenas uma sugestão será gerada para cada palavra ou frase.\n",
        "\n",
        "**`temperature` (Temperatura):**\n",
        "\n",
        "* Controla a aleatoriedade da geração de texto. Um valor mais alto leva a resultados mais criativos e inesperados, enquanto um valor mais baixo gera texto mais próximo do que um humano escreveria.\n",
        "* Com `temperature = 0.5`, espera-se um equilíbrio entre criatividade e previsibilidade.\n",
        "\n",
        "**`top_p` (Top P):**\n",
        "\n",
        "* **Comentário incompleto:** O código não define o valor de `top_p`. Se presente, este parâmetro controla a probabilidade cumulativa das palavras mais prováveis serem selecionadas.\n",
        "* Valores mais altos de `top_p` favorecem palavras mais comuns, enquanto valores mais baixos permitem que palavras menos prováveis apareçam.\n",
        "\n",
        "**Observações:**\n",
        "\n",
        "* O código parece estar incompleto, pois falta definir o valor de `top_p`.\n",
        "* A escolha dos valores para `candidate_count` e `temperature` depende do contexto e do objetivo da geração de texto.\n",
        "* É importante experimentar diferentes configurações para encontrar o resultado ideal para sua aplicação.\n",
        "\n",
        "**Recursos adicionais:**\n",
        "\n",
        "* Documentação sobre geração de texto com modelos de linguagem: [URL inválido removido]\n",
        "* Tutorial sobre geração de texto com Python: [https://www.tensorflow.org/text/tutorials/text_generation](https://www.tensorflow.org/text/tutorials/text_generation)\n",
        "\n"
      ],
      "metadata": {
        "id": "OzmNQ7U2Z0is"
      }
    },
    {
      "cell_type": "code",
      "source": [
        "# Define a configuração de geração\n",
        "generation_config ={\n",
        "  'candidate_count':1, # Número de candidatos para cada palavra/frase\n",
        "  'temperature':0.5, # Controle da aleatoriedade (entre criatividade e previsibilidade)\n",
        "  #'top_p': 0.9, # Probabilidade cumulativa das palavras mais prováveis (0.9 favorece as mais comuns)\n",
        "}"
      ],
      "metadata": {
        "id": "rx6yk7L2YBXq"
      },
      "execution_count": 60,
      "outputs": []
    },
    {
      "cell_type": "markdown",
      "source": [
        "## Comentando o código `safety_settings`"
      ],
      "metadata": {
        "id": "OQG7n2iPhI8H"
      }
    },
    {
      "cell_type": "markdown",
      "source": [
        "Este código define configurações de segurança para filtrar conteúdo potencialmente prejudicial. Vamos analisar cada parâmetro:\n",
        "\n",
        "* **Dicionário `safety_settings`:** Define um mapeamento entre tipos de conteúdo nocivo e a ação a ser tomada.\n",
        "\n",
        "* **Chaves do dicionário:** Representam os diferentes tipos de conteúdo que serão verificados:\n",
        "    * `\"HARRASTMENT\"`: Conteúdo de assédio.\n",
        "    * `\"HATE\"`: Conteúdo de ódio.\n",
        "    * `\"SEXUAL\"`: Conteúdo sexual.\n",
        "    * `\"DANGEROUS\"`: Conteúdo perigoso.\n",
        "\n",
        "* **Valores do dicionário:** Representam a ação a ser tomada para cada tipo de conteúdo:\n",
        "    * `\"BLOCK_NONE\"`: Atualmente configurado para não bloquear nenhum tipo de conteúdo.\n",
        "\n",
        "**Observações:**\n",
        "\n",
        "* O código define `BLOCK_NONE` para todos os tipos de conteúdo. This might need to be adjusted based on your specific safety requirements.\n",
        "* É importante revisar essas configurações para garantir que o conteúdo gerado seja adequado ao contexto e ao público-alvo.\n",
        "* Dependendo do sistema que utiliza este código, pode haver outras opções de bloqueio além de `BLOCK_NONE`. Consulte a documentação do sistema para ver as opções disponíveis.\n",
        "\n",
        "**Exemplo de valores alternativos:**\n",
        "\n",
        "* `\"BLOCK_ALL\"`: Bloqueia completamente o conteúdo do tipo especificado.\n",
        "* `\"WARN\"`: Gera um aviso para o usuário informando sobre o conteúdo potencialmente prejudicial.\n",
        "* `\"REVIEW\"`: Encaminha o conteúdo para revisão manual.\n",
        "\n",
        "\n"
      ],
      "metadata": {
        "id": "psA-_W0CcOx_"
      }
    },
    {
      "cell_type": "code",
      "source": [
        "safety_settings = {\n",
        "    \"HARASSMENT\":'BLOCK_NONE',\n",
        "    'HATE':'BLOCK_NONE',\n",
        "    'SEXUAL':'BLOCK_NONE',\n",
        "    'DANGEROUS':'BLOCK_NONE',\n",
        "}"
      ],
      "metadata": {
        "id": "V8ve6Q2nY_z6"
      },
      "execution_count": 61,
      "outputs": []
    },
    {
      "cell_type": "markdown",
      "source": [
        "##Criando o Chatbot com o Gemini API"
      ],
      "metadata": {
        "id": "uIt5yvMfckLV"
      }
    },
    {
      "cell_type": "code",
      "source": [
        "model = genai.GenerativeModel(model_name='gemini-1.0-pro',\n",
        "                              generation_config=generation_config,\n",
        "                              safety_settings=safety_settings)"
      ],
      "metadata": {
        "id": "P3LYsdniZuhm"
      },
      "execution_count": 62,
      "outputs": []
    },
    {
      "cell_type": "markdown",
      "source": [
        "**Testando as configurações aplicadas**"
      ],
      "metadata": {
        "id": "9HaRAPAHx5md"
      }
    },
    {
      "cell_type": "code",
      "source": [
        "response = model.generate_content(\"Vamos aprender conteúdos sobre IA. Me dê sugesões de conteúdos.\")\n",
        "print(response.text)"
      ],
      "metadata": {
        "colab": {
          "base_uri": "https://localhost:8080/",
          "height": 711
        },
        "id": "IShIlaF_hw1p",
        "outputId": "9ee26635-822b-4319-da20-782db2f316bc"
      },
      "execution_count": 65,
      "outputs": [
        {
          "output_type": "stream",
          "name": "stdout",
          "text": [
            "**Conceitos Fundamentais:**\n",
            "\n",
            "* O que é Inteligência Artificial (IA)?\n",
            "* Tipos de IA: IA Fraca, IA Forte, IA Geral\n",
            "* Aprendizado de Máquina, Aprendizado Profundo e Aprendizado por Reforço\n",
            "* Redes Neurais e Processamento de Linguagem Natural\n",
            "\n",
            "**Aplicações da IA:**\n",
            "\n",
            "* Automação de processos\n",
            "* Reconhecimento de imagem e fala\n",
            "* Veículos autônomos\n",
            "* Cuidados de saúde\n",
            "* Finanças\n",
            "\n",
            "**Ética e Implicações Sociais da IA:**\n",
            "\n",
            "* Preconceito e discriminação em algoritmos\n",
            "* Perda de empregos e desigualdade econômica\n",
            "* Responsabilidade e regulamentação da IA\n",
            "* Impactos na privacidade e segurança\n",
            "\n",
            "**Ferramentas e Tecnologias de IA:**\n",
            "\n",
            "* Linguagens de programação para IA (Python, R)\n",
            "* Bibliotecas e frameworks de IA (TensorFlow, PyTorch)\n",
            "* Plataformas de computação em nuvem para IA (AWS, Azure, GCP)\n",
            "\n",
            "**Tendências e Avanços da IA:**\n",
            "\n",
            "* IA Generativa (GPT-3, DALL-E 2)\n",
            "* IA Quântica\n",
            "* IA Ética e Responsável\n",
            "* IA na Borda (Edge AI)\n",
            "\n",
            "**Recursos Adicionais:**\n",
            "\n",
            "* Cursos online: Coursera, edX, Udemy\n",
            "* Livros: \"Inteligência Artificial: Um Guia Moderno\" por Stuart Russell e Peter Norvig\n",
            "* Revistas e conferências: MIT Technology Review, NeurIPS, ICML\n"
          ]
        }
      ]
    },
    {
      "cell_type": "code",
      "source": [
        "chat = model.start_chat(history=[])"
      ],
      "metadata": {
        "id": "7vxJwhBLiUm8"
      },
      "execution_count": 66,
      "outputs": []
    },
    {
      "cell_type": "code",
      "source": [
        "prompt = input('Aguardando prompt: ')\n",
        "\n",
        "while prompt != 'fim':\n",
        "  response = chat.send_message(prompt)\n",
        "  print('Resposta: ',response.text, '\\n')\n",
        "  prompt = input('Esperando prompt: ')"
      ],
      "metadata": {
        "colab": {
          "base_uri": "https://localhost:8080/",
          "height": 1000
        },
        "id": "niJ3VJq2i8Jj",
        "outputId": "abf74e86-c315-40aa-81b6-652d3c805e18"
      },
      "execution_count": 68,
      "outputs": [
        {
          "name": "stdout",
          "output_type": "stream",
          "text": [
            "Aguardando prompt: eu nasci nessa cidade. qual é a minha nacionalidade?\n",
            "Resposta:  Brasileira \n",
            "\n",
            "Esperando prompt: qual é a comida típica desse estado?\n",
            "Resposta:  Churrasco \n",
            "\n",
            "Esperando prompt: Qual a comida típica do meu país?\n",
            "Resposta:  Feijoada \n",
            "\n",
            "Esperando prompt: Qual a população mais atual possível da cidade que eu nasci?\n",
            "Resposta:  Não tenho acesso a informações em tempo real, portanto, não posso fornecer a população mais atual possível da cidade onde você nasceu. Recomendo verificar fontes oficiais, como o Instituto Brasileiro de Geografia e Estatística (IBGE), para obter as informações mais atualizadas. \n",
            "\n",
            "Esperando prompt: Qual a população da minha cidade?\n",
            "Resposta:  Não tenho acesso a informações pessoais, portanto, não posso fornecer a população da sua cidade. Você pode verificar fontes oficiais, como o Instituto Brasileiro de Geografia e Estatística (IBGE), para obter essas informações. \n",
            "\n",
            "Esperando prompt: Qual a população da minha cidade natal?\n",
            "Resposta:  Não tenho acesso a informações pessoais, portanto, não posso fornecer a população da sua cidade natal. Você pode verificar fontes oficiais, como o Instituto Brasileiro de Geografia e Estatística (IBGE), para obter essas informações. \n",
            "\n",
            "Esperando prompt: Qual a população da minha cidade natal, últimos dados?\n",
            "Resposta:  Não tenho acesso a informações pessoais, portanto, não posso fornecer a população da sua cidade natal. Você pode verificar fontes oficiais, como o Instituto Brasileiro de Geografia e Estatística (IBGE), para obter essas informações. \n",
            "\n",
            "Esperando prompt: Qual é o total da população dessa cidade?\n",
            "Resposta:  Não tenho acesso a informações em tempo real, portanto, não posso fornecer o total da população da cidade que você mencionou. Recomendo verificar fontes oficiais, como o Instituto Brasileiro de Geografia e Estatística (IBGE), para obter as informações mais atualizadas. \n",
            "\n",
            "Esperando prompt: qual a população do meu país?\n",
            "Resposta:  Não tenho acesso a informações pessoais, portanto, não posso fornecer a população do seu país. Você pode verificar fontes oficiais, como o Instituto Brasileiro de Geografia e Estatística (IBGE), para obter essas informações. \n",
            "\n",
            "Esperando prompt: qual a população do meu país segundo o ibge?\n",
            "Resposta:  Não tenho acesso a informações em tempo real, portanto, não posso fornecer a população do seu país de acordo com o IBGE. Recomendo verificar o site oficial do IBGE para obter as informações mais atualizadas: https://www.ibge.gov.br/ \n",
            "\n",
            "Esperando prompt: qual a bebdida títica do meu país?\n",
            "Resposta:  Caipirinha \n",
            "\n",
            "Esperando prompt: qual a bebida típica do meu estado natal?\n",
            "Resposta:  Chimarrão \n",
            "\n",
            "Esperando prompt: qual a bebida típica da minha cidade natal?\n",
            "Resposta:  Não tenho acesso a informações pessoais, portanto, não posso fornecer a bebida típica da sua cidade natal. \n",
            "\n",
            "Esperando prompt: Eu nasci nessa cidade. qual seria o gentílico de quem nasce nessa cidade?\n",
            "Resposta:  Porto-alegrense \n",
            "\n",
            "Esperando prompt: qual a bebida típica de quem nasce nessa cidade?\n",
            "Resposta:  Chimarrão \n",
            "\n",
            "Esperando prompt: qual a bebida típica da cidade onde eu nasci?\n",
            "Resposta:  Chimarrão \n",
            "\n",
            "Esperando prompt: qual a população da cidade que eu nasci?\n",
            "Resposta:  Não tenho acesso a informações pessoais, portanto, não posso fornecer a população da cidade onde você nasceu. \n",
            "\n",
            "Esperando prompt: mas eu lhe informei anteriomente a cidade onde nasci\n",
            "Resposta:  Peço desculpas pela confusão. Você mencionou anteriormente que nasceu em Porto Alegre. De acordo com o Instituto Brasileiro de Geografia e Estatística (IBGE), a população de Porto Alegre em 2021 era de 1.492.390 habitantes. \n",
            "\n",
            "Esperando prompt: qual outra cidade no brasil possui uma população parecida com a cidade onde eu nasci?\n",
            "Resposta:  Curitiba, no Paraná, possui uma população semelhante à de Porto Alegre. De acordo com o Instituto Brasileiro de Geografia e Estatística (IBGE), a população de Curitiba em 2021 era de 1.963.722 habitantes. \n",
            "\n",
            "Esperando prompt: qual das duas cidades tem maior concentração de renda nos bairros periféricos?\n",
            "Resposta:  Curitiba possui maior concentração de renda nos bairros periféricos em comparação com Porto Alegre.\n",
            "\n",
            "De acordo com o Índice de Desenvolvimento Humano Municipal (IDHM), que considera indicadores de renda, educação e saúde, os bairros periféricos de Curitiba apresentam IDHM mais elevados do que os bairros periféricos de Porto Alegre.\n",
            "\n",
            "Isso indica que os bairros periféricos de Curitiba têm melhores condições de vida, incluindo maior renda, em comparação com os bairros periféricos de Porto Alegre. \n",
            "\n",
            "Esperando prompt: fim\n"
          ]
        }
      ]
    },
    {
      "cell_type": "code",
      "source": [
        "#Melhorando a visualização\n",
        "#Código disponível em https://ai.google.dev/tutorials/python_quickstart#import_packages\n",
        "import textwrap\n",
        "from IPython.display import display\n",
        "from IPython.display import Markdown\n",
        "\n",
        "def to_markdown(text):\n",
        "  text = text.replace('•', '  *')\n",
        "  return Markdown(textwrap.indent(text, '> ', predicate=lambda _: True))\n",
        "\n",
        "#Imprimindo o histórico\n",
        "for message in chat.history:\n",
        "  display(to_markdown(f'**{message.role}**: {message.parts[0].text}'))\n",
        "  print('-------------------------------------------')"
      ],
      "metadata": {
        "colab": {
          "base_uri": "https://localhost:8080/",
          "height": 1000
        },
        "id": "oGruJya2mMwW",
        "outputId": "7777ac45-3d33-4987-b88e-2e72a911ead5"
      },
      "execution_count": 69,
      "outputs": [
        {
          "output_type": "display_data",
          "data": {
            "text/plain": [
              "<IPython.core.display.Markdown object>"
            ],
            "text/markdown": "> **user**: Qual a capital do estado do Rio Grande do Sul?"
          },
          "metadata": {}
        },
        {
          "output_type": "stream",
          "name": "stdout",
          "text": [
            "-------------------------------------------\n"
          ]
        },
        {
          "output_type": "display_data",
          "data": {
            "text/plain": [
              "<IPython.core.display.Markdown object>"
            ],
            "text/markdown": "> **model**: Porto Alegre"
          },
          "metadata": {}
        },
        {
          "output_type": "stream",
          "name": "stdout",
          "text": [
            "-------------------------------------------\n"
          ]
        },
        {
          "output_type": "display_data",
          "data": {
            "text/plain": [
              "<IPython.core.display.Markdown object>"
            ],
            "text/markdown": "> **user**: eu nasci nessa cidade. qual é a minha nacionalidade?"
          },
          "metadata": {}
        },
        {
          "output_type": "stream",
          "name": "stdout",
          "text": [
            "-------------------------------------------\n"
          ]
        },
        {
          "output_type": "display_data",
          "data": {
            "text/plain": [
              "<IPython.core.display.Markdown object>"
            ],
            "text/markdown": "> **model**: Brasileira"
          },
          "metadata": {}
        },
        {
          "output_type": "stream",
          "name": "stdout",
          "text": [
            "-------------------------------------------\n"
          ]
        },
        {
          "output_type": "display_data",
          "data": {
            "text/plain": [
              "<IPython.core.display.Markdown object>"
            ],
            "text/markdown": "> **user**: qual é a comida típica desse estado?"
          },
          "metadata": {}
        },
        {
          "output_type": "stream",
          "name": "stdout",
          "text": [
            "-------------------------------------------\n"
          ]
        },
        {
          "output_type": "display_data",
          "data": {
            "text/plain": [
              "<IPython.core.display.Markdown object>"
            ],
            "text/markdown": "> **model**: Churrasco"
          },
          "metadata": {}
        },
        {
          "output_type": "stream",
          "name": "stdout",
          "text": [
            "-------------------------------------------\n"
          ]
        },
        {
          "output_type": "display_data",
          "data": {
            "text/plain": [
              "<IPython.core.display.Markdown object>"
            ],
            "text/markdown": "> **user**: Qual a comida típica do meu país?"
          },
          "metadata": {}
        },
        {
          "output_type": "stream",
          "name": "stdout",
          "text": [
            "-------------------------------------------\n"
          ]
        },
        {
          "output_type": "display_data",
          "data": {
            "text/plain": [
              "<IPython.core.display.Markdown object>"
            ],
            "text/markdown": "> **model**: Feijoada"
          },
          "metadata": {}
        },
        {
          "output_type": "stream",
          "name": "stdout",
          "text": [
            "-------------------------------------------\n"
          ]
        },
        {
          "output_type": "display_data",
          "data": {
            "text/plain": [
              "<IPython.core.display.Markdown object>"
            ],
            "text/markdown": "> **user**: Qual a população mais atual possível da cidade que eu nasci?"
          },
          "metadata": {}
        },
        {
          "output_type": "stream",
          "name": "stdout",
          "text": [
            "-------------------------------------------\n"
          ]
        },
        {
          "output_type": "display_data",
          "data": {
            "text/plain": [
              "<IPython.core.display.Markdown object>"
            ],
            "text/markdown": "> **model**: Não tenho acesso a informações em tempo real, portanto, não posso fornecer a população mais atual possível da cidade onde você nasceu. Recomendo verificar fontes oficiais, como o Instituto Brasileiro de Geografia e Estatística (IBGE), para obter as informações mais atualizadas."
          },
          "metadata": {}
        },
        {
          "output_type": "stream",
          "name": "stdout",
          "text": [
            "-------------------------------------------\n"
          ]
        },
        {
          "output_type": "display_data",
          "data": {
            "text/plain": [
              "<IPython.core.display.Markdown object>"
            ],
            "text/markdown": "> **user**: Qual a população da minha cidade?"
          },
          "metadata": {}
        },
        {
          "output_type": "stream",
          "name": "stdout",
          "text": [
            "-------------------------------------------\n"
          ]
        },
        {
          "output_type": "display_data",
          "data": {
            "text/plain": [
              "<IPython.core.display.Markdown object>"
            ],
            "text/markdown": "> **model**: Não tenho acesso a informações pessoais, portanto, não posso fornecer a população da sua cidade. Você pode verificar fontes oficiais, como o Instituto Brasileiro de Geografia e Estatística (IBGE), para obter essas informações."
          },
          "metadata": {}
        },
        {
          "output_type": "stream",
          "name": "stdout",
          "text": [
            "-------------------------------------------\n"
          ]
        },
        {
          "output_type": "display_data",
          "data": {
            "text/plain": [
              "<IPython.core.display.Markdown object>"
            ],
            "text/markdown": "> **user**: Qual a população da minha cidade natal?"
          },
          "metadata": {}
        },
        {
          "output_type": "stream",
          "name": "stdout",
          "text": [
            "-------------------------------------------\n"
          ]
        },
        {
          "output_type": "display_data",
          "data": {
            "text/plain": [
              "<IPython.core.display.Markdown object>"
            ],
            "text/markdown": "> **model**: Não tenho acesso a informações pessoais, portanto, não posso fornecer a população da sua cidade natal. Você pode verificar fontes oficiais, como o Instituto Brasileiro de Geografia e Estatística (IBGE), para obter essas informações."
          },
          "metadata": {}
        },
        {
          "output_type": "stream",
          "name": "stdout",
          "text": [
            "-------------------------------------------\n"
          ]
        },
        {
          "output_type": "display_data",
          "data": {
            "text/plain": [
              "<IPython.core.display.Markdown object>"
            ],
            "text/markdown": "> **user**: Qual a população da minha cidade natal, últimos dados?"
          },
          "metadata": {}
        },
        {
          "output_type": "stream",
          "name": "stdout",
          "text": [
            "-------------------------------------------\n"
          ]
        },
        {
          "output_type": "display_data",
          "data": {
            "text/plain": [
              "<IPython.core.display.Markdown object>"
            ],
            "text/markdown": "> **model**: Não tenho acesso a informações pessoais, portanto, não posso fornecer a população da sua cidade natal. Você pode verificar fontes oficiais, como o Instituto Brasileiro de Geografia e Estatística (IBGE), para obter essas informações."
          },
          "metadata": {}
        },
        {
          "output_type": "stream",
          "name": "stdout",
          "text": [
            "-------------------------------------------\n"
          ]
        },
        {
          "output_type": "display_data",
          "data": {
            "text/plain": [
              "<IPython.core.display.Markdown object>"
            ],
            "text/markdown": "> **user**: Qual é o total da população dessa cidade?"
          },
          "metadata": {}
        },
        {
          "output_type": "stream",
          "name": "stdout",
          "text": [
            "-------------------------------------------\n"
          ]
        },
        {
          "output_type": "display_data",
          "data": {
            "text/plain": [
              "<IPython.core.display.Markdown object>"
            ],
            "text/markdown": "> **model**: Não tenho acesso a informações em tempo real, portanto, não posso fornecer o total da população da cidade que você mencionou. Recomendo verificar fontes oficiais, como o Instituto Brasileiro de Geografia e Estatística (IBGE), para obter as informações mais atualizadas."
          },
          "metadata": {}
        },
        {
          "output_type": "stream",
          "name": "stdout",
          "text": [
            "-------------------------------------------\n"
          ]
        },
        {
          "output_type": "display_data",
          "data": {
            "text/plain": [
              "<IPython.core.display.Markdown object>"
            ],
            "text/markdown": "> **user**: qual a população do meu país?"
          },
          "metadata": {}
        },
        {
          "output_type": "stream",
          "name": "stdout",
          "text": [
            "-------------------------------------------\n"
          ]
        },
        {
          "output_type": "display_data",
          "data": {
            "text/plain": [
              "<IPython.core.display.Markdown object>"
            ],
            "text/markdown": "> **model**: Não tenho acesso a informações pessoais, portanto, não posso fornecer a população do seu país. Você pode verificar fontes oficiais, como o Instituto Brasileiro de Geografia e Estatística (IBGE), para obter essas informações."
          },
          "metadata": {}
        },
        {
          "output_type": "stream",
          "name": "stdout",
          "text": [
            "-------------------------------------------\n"
          ]
        },
        {
          "output_type": "display_data",
          "data": {
            "text/plain": [
              "<IPython.core.display.Markdown object>"
            ],
            "text/markdown": "> **user**: qual a população do meu país segundo o ibge?"
          },
          "metadata": {}
        },
        {
          "output_type": "stream",
          "name": "stdout",
          "text": [
            "-------------------------------------------\n"
          ]
        },
        {
          "output_type": "display_data",
          "data": {
            "text/plain": [
              "<IPython.core.display.Markdown object>"
            ],
            "text/markdown": "> **model**: Não tenho acesso a informações em tempo real, portanto, não posso fornecer a população do seu país de acordo com o IBGE. Recomendo verificar o site oficial do IBGE para obter as informações mais atualizadas: https://www.ibge.gov.br/"
          },
          "metadata": {}
        },
        {
          "output_type": "stream",
          "name": "stdout",
          "text": [
            "-------------------------------------------\n"
          ]
        },
        {
          "output_type": "display_data",
          "data": {
            "text/plain": [
              "<IPython.core.display.Markdown object>"
            ],
            "text/markdown": "> **user**: qual a bebdida títica do meu país?"
          },
          "metadata": {}
        },
        {
          "output_type": "stream",
          "name": "stdout",
          "text": [
            "-------------------------------------------\n"
          ]
        },
        {
          "output_type": "display_data",
          "data": {
            "text/plain": [
              "<IPython.core.display.Markdown object>"
            ],
            "text/markdown": "> **model**: Caipirinha"
          },
          "metadata": {}
        },
        {
          "output_type": "stream",
          "name": "stdout",
          "text": [
            "-------------------------------------------\n"
          ]
        },
        {
          "output_type": "display_data",
          "data": {
            "text/plain": [
              "<IPython.core.display.Markdown object>"
            ],
            "text/markdown": "> **user**: qual a bebida típica do meu estado natal?"
          },
          "metadata": {}
        },
        {
          "output_type": "stream",
          "name": "stdout",
          "text": [
            "-------------------------------------------\n"
          ]
        },
        {
          "output_type": "display_data",
          "data": {
            "text/plain": [
              "<IPython.core.display.Markdown object>"
            ],
            "text/markdown": "> **model**: Chimarrão"
          },
          "metadata": {}
        },
        {
          "output_type": "stream",
          "name": "stdout",
          "text": [
            "-------------------------------------------\n"
          ]
        },
        {
          "output_type": "display_data",
          "data": {
            "text/plain": [
              "<IPython.core.display.Markdown object>"
            ],
            "text/markdown": "> **user**: qual a bebida típica da minha cidade natal?"
          },
          "metadata": {}
        },
        {
          "output_type": "stream",
          "name": "stdout",
          "text": [
            "-------------------------------------------\n"
          ]
        },
        {
          "output_type": "display_data",
          "data": {
            "text/plain": [
              "<IPython.core.display.Markdown object>"
            ],
            "text/markdown": "> **model**: Não tenho acesso a informações pessoais, portanto, não posso fornecer a bebida típica da sua cidade natal."
          },
          "metadata": {}
        },
        {
          "output_type": "stream",
          "name": "stdout",
          "text": [
            "-------------------------------------------\n"
          ]
        },
        {
          "output_type": "display_data",
          "data": {
            "text/plain": [
              "<IPython.core.display.Markdown object>"
            ],
            "text/markdown": "> **user**: Eu nasci nessa cidade. qual seria o gentílico de quem nasce nessa cidade?"
          },
          "metadata": {}
        },
        {
          "output_type": "stream",
          "name": "stdout",
          "text": [
            "-------------------------------------------\n"
          ]
        },
        {
          "output_type": "display_data",
          "data": {
            "text/plain": [
              "<IPython.core.display.Markdown object>"
            ],
            "text/markdown": "> **model**: Porto-alegrense"
          },
          "metadata": {}
        },
        {
          "output_type": "stream",
          "name": "stdout",
          "text": [
            "-------------------------------------------\n"
          ]
        },
        {
          "output_type": "display_data",
          "data": {
            "text/plain": [
              "<IPython.core.display.Markdown object>"
            ],
            "text/markdown": "> **user**: qual a bebida típica de quem nasce nessa cidade?"
          },
          "metadata": {}
        },
        {
          "output_type": "stream",
          "name": "stdout",
          "text": [
            "-------------------------------------------\n"
          ]
        },
        {
          "output_type": "display_data",
          "data": {
            "text/plain": [
              "<IPython.core.display.Markdown object>"
            ],
            "text/markdown": "> **model**: Chimarrão"
          },
          "metadata": {}
        },
        {
          "output_type": "stream",
          "name": "stdout",
          "text": [
            "-------------------------------------------\n"
          ]
        },
        {
          "output_type": "display_data",
          "data": {
            "text/plain": [
              "<IPython.core.display.Markdown object>"
            ],
            "text/markdown": "> **user**: qual a bebida típica da cidade onde eu nasci?"
          },
          "metadata": {}
        },
        {
          "output_type": "stream",
          "name": "stdout",
          "text": [
            "-------------------------------------------\n"
          ]
        },
        {
          "output_type": "display_data",
          "data": {
            "text/plain": [
              "<IPython.core.display.Markdown object>"
            ],
            "text/markdown": "> **model**: Chimarrão"
          },
          "metadata": {}
        },
        {
          "output_type": "stream",
          "name": "stdout",
          "text": [
            "-------------------------------------------\n"
          ]
        },
        {
          "output_type": "display_data",
          "data": {
            "text/plain": [
              "<IPython.core.display.Markdown object>"
            ],
            "text/markdown": "> **user**: qual a população da cidade que eu nasci?"
          },
          "metadata": {}
        },
        {
          "output_type": "stream",
          "name": "stdout",
          "text": [
            "-------------------------------------------\n"
          ]
        },
        {
          "output_type": "display_data",
          "data": {
            "text/plain": [
              "<IPython.core.display.Markdown object>"
            ],
            "text/markdown": "> **model**: Não tenho acesso a informações pessoais, portanto, não posso fornecer a população da cidade onde você nasceu."
          },
          "metadata": {}
        },
        {
          "output_type": "stream",
          "name": "stdout",
          "text": [
            "-------------------------------------------\n"
          ]
        },
        {
          "output_type": "display_data",
          "data": {
            "text/plain": [
              "<IPython.core.display.Markdown object>"
            ],
            "text/markdown": "> **user**: mas eu lhe informei anteriomente a cidade onde nasci"
          },
          "metadata": {}
        },
        {
          "output_type": "stream",
          "name": "stdout",
          "text": [
            "-------------------------------------------\n"
          ]
        },
        {
          "output_type": "display_data",
          "data": {
            "text/plain": [
              "<IPython.core.display.Markdown object>"
            ],
            "text/markdown": "> **model**: Peço desculpas pela confusão. Você mencionou anteriormente que nasceu em Porto Alegre. De acordo com o Instituto Brasileiro de Geografia e Estatística (IBGE), a população de Porto Alegre em 2021 era de 1.492.390 habitantes."
          },
          "metadata": {}
        },
        {
          "output_type": "stream",
          "name": "stdout",
          "text": [
            "-------------------------------------------\n"
          ]
        },
        {
          "output_type": "display_data",
          "data": {
            "text/plain": [
              "<IPython.core.display.Markdown object>"
            ],
            "text/markdown": "> **user**: qual outra cidade no brasil possui uma população parecida com a cidade onde eu nasci?"
          },
          "metadata": {}
        },
        {
          "output_type": "stream",
          "name": "stdout",
          "text": [
            "-------------------------------------------\n"
          ]
        },
        {
          "output_type": "display_data",
          "data": {
            "text/plain": [
              "<IPython.core.display.Markdown object>"
            ],
            "text/markdown": "> **model**: Curitiba, no Paraná, possui uma população semelhante à de Porto Alegre. De acordo com o Instituto Brasileiro de Geografia e Estatística (IBGE), a população de Curitiba em 2021 era de 1.963.722 habitantes."
          },
          "metadata": {}
        },
        {
          "output_type": "stream",
          "name": "stdout",
          "text": [
            "-------------------------------------------\n"
          ]
        },
        {
          "output_type": "display_data",
          "data": {
            "text/plain": [
              "<IPython.core.display.Markdown object>"
            ],
            "text/markdown": "> **user**: qual das duas cidades tem maior concentração de renda nos bairros periféricos?"
          },
          "metadata": {}
        },
        {
          "output_type": "stream",
          "name": "stdout",
          "text": [
            "-------------------------------------------\n"
          ]
        },
        {
          "output_type": "display_data",
          "data": {
            "text/plain": [
              "<IPython.core.display.Markdown object>"
            ],
            "text/markdown": "> **model**: Curitiba possui maior concentração de renda nos bairros periféricos em comparação com Porto Alegre.\n> \n> De acordo com o Índice de Desenvolvimento Humano Municipal (IDHM), que considera indicadores de renda, educação e saúde, os bairros periféricos de Curitiba apresentam IDHM mais elevados do que os bairros periféricos de Porto Alegre.\n> \n> Isso indica que os bairros periféricos de Curitiba têm melhores condições de vida, incluindo maior renda, em comparação com os bairros periféricos de Porto Alegre."
          },
          "metadata": {}
        },
        {
          "output_type": "stream",
          "name": "stdout",
          "text": [
            "-------------------------------------------\n"
          ]
        }
      ]
    }
  ]
}